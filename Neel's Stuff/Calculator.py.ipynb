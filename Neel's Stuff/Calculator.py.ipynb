{
 "cells": [
  {
   "cell_type": "code",
   "execution_count": 19,
   "metadata": {},
   "outputs": [],
   "source": [
    "import re"
   ]
  },
  {
   "cell_type": "code",
   "execution_count": 20,
   "metadata": {},
   "outputs": [],
   "source": [
    "def find_add(s):\n",
    "    add = re.findall(r'(\\d+\\.?\\d*\\s*\\+\\s*\\d+\\.?\\d*)', s)\n",
    "    return add"
   ]
  },
  {
   "cell_type": "code",
   "execution_count": 21,
   "metadata": {},
   "outputs": [],
   "source": [
    "def find_sub(s):\n",
    "    sub = re.findall(r'(\\d+\\.?\\d*\\s*\\-\\s*\\d+\\.?\\d*)', s)\n",
    "    return sub"
   ]
  },
  {
   "cell_type": "code",
   "execution_count": 22,
   "metadata": {},
   "outputs": [],
   "source": [
    "def find_mult(s):\n",
    "    mult = re.findall(r'(\\d+\\.?\\d*\\s*\\*\\s*\\d+\\.?\\d*)', s)\n",
    "    return mult"
   ]
  },
  {
   "cell_type": "code",
   "execution_count": 23,
   "metadata": {},
   "outputs": [],
   "source": [
    "def find_div(s):\n",
    "    div = re.findall(r'(\\d+\\.?\\d*\\s*/\\s*\\d+\\.?\\d*)', s)\n",
    "    return div"
   ]
  },
  {
   "cell_type": "code",
   "execution_count": 24,
   "metadata": {},
   "outputs": [],
   "source": [
    "def do_add(s):\n",
    "    num = re.findall(r'(\\d+\\.?\\d*)', s)\n",
    "    a = float(num[0])\n",
    "    b = float(num[1])\n",
    "    return a + b"
   ]
  },
  {
   "cell_type": "code",
   "execution_count": 25,
   "metadata": {},
   "outputs": [],
   "source": [
    "def do_sub(s):\n",
    "    num = re.findall(r'(\\d+\\.?\\d*)', s)\n",
    "    a = float(num[0])\n",
    "    b = float(num[1])\n",
    "    return a - b"
   ]
  },
  {
   "cell_type": "code",
   "execution_count": 26,
   "metadata": {},
   "outputs": [],
   "source": [
    "def do_mult(s):\n",
    "    num = re.findall(r'(\\d+\\.?\\d*)', s)\n",
    "    a = float(num[0])\n",
    "    b = float(num[1])\n",
    "    return a * b"
   ]
  },
  {
   "cell_type": "code",
   "execution_count": 27,
   "metadata": {},
   "outputs": [],
   "source": [
    "def do_div(s):\n",
    "    num = re.findall(r'(\\d+\\.?\\d*)', s)\n",
    "    a = float(num[0])\n",
    "    b = float(num[1])\n",
    "    return a / b"
   ]
  },
  {
   "cell_type": "code",
   "execution_count": 28,
   "metadata": {},
   "outputs": [
    {
     "data": {
      "text/plain": [
       "['1+1', '3-9']"
      ]
     },
     "execution_count": 28,
     "metadata": {},
     "output_type": "execute_result"
    }
   ],
   "source": [
    "def find_add_sub(s):\n",
    "    add_sub = re.findall(r'(\\d+\\.?\\d*\\s*[\\+|\\-]\\s*\\d+\\.?\\d*)', s)\n",
    "    return add_sub\n",
    "\n",
    "find_add_sub(\"1+1+3-9\")"
   ]
  },
  {
   "cell_type": "code",
   "execution_count": 29,
   "metadata": {},
   "outputs": [
    {
     "data": {
      "text/plain": [
       "['1*1', '3/9']"
      ]
     },
     "execution_count": 29,
     "metadata": {},
     "output_type": "execute_result"
    }
   ],
   "source": [
    "def find_mult_div(s):\n",
    "    mult_div = re.findall(r'(\\d+\\.?\\d*\\s*[\\*|/]\\s*\\d+\\.?\\d*)', s)\n",
    "    return mult_div\n",
    "\n",
    "find_mult_div(\"1*1*3/9\")"
   ]
  },
  {
   "cell_type": "code",
   "execution_count": 30,
   "metadata": {},
   "outputs": [],
   "source": [
    "def if_md_solved(s):\n",
    "    if_s = re.findall(r'([\\*|/])', s)\n",
    "    if len(if_s) == 0:\n",
    "        return True\n",
    "    else:\n",
    "        return False"
   ]
  },
  {
   "cell_type": "code",
   "execution_count": 31,
   "metadata": {},
   "outputs": [],
   "source": [
    "def if_as_solved(s):\n",
    "    if_s = re.findall(r'\\d+\\.?\\d*', s)\n",
    "    if len(if_s) == 1:\n",
    "        return True\n",
    "    else:\n",
    "        return False"
   ]
  },
  {
   "cell_type": "code",
   "execution_count": 36,
   "metadata": {},
   "outputs": [],
   "source": [
    "def solve_md(s):\n",
    "    mult_div = find_mult_div(s)\n",
    "    #print(mult_div)\n",
    "    mult = find_mult(mult_div[0])\n",
    "    div = find_div(mult_div[0])\n",
    "    if len(mult) != 0:\n",
    "        mans = do_mult(mult_div[0])\n",
    "        return (str(mans), mult_div)\n",
    "    elif len(div) != 0:\n",
    "        dans = do_div(mult_div[0])\n",
    "        return (str(dans), mult_div)"
   ]
  },
  {
   "cell_type": "code",
   "execution_count": 37,
   "metadata": {},
   "outputs": [],
   "source": [
    "def solve_as(s):\n",
    "    add_sub = find_add_sub(s)\n",
    "    #print(add_sub)\n",
    "    if len(add_sub) != 0:\n",
    "        add = find_add(add_sub[0])\n",
    "        sub = find_sub(add_sub[0])\n",
    "        if len(add) != 0:\n",
    "            aans = do_add(add_sub[0])\n",
    "            return (str(aans), add_sub)\n",
    "        elif len(sub) != 0:\n",
    "            sans = do_sub(add_sub[0])\n",
    "            return (str(sans), add_sub)\n",
    "    else:\n",
    "        return ('', [''])"
   ]
  },
  {
   "cell_type": "code",
   "execution_count": 38,
   "metadata": {},
   "outputs": [],
   "source": [
    "def main_add_sub(s):\n",
    "    while if_as_solved(s) == False:\n",
    "        (ans, add_sub) = solve_as(s)\n",
    "        print(ans, add_sub)\n",
    "        s = s.replace(add_sub[0], ans, 1)\n",
    "    return s"
   ]
  },
  {
   "cell_type": "code",
   "execution_count": 39,
   "metadata": {},
   "outputs": [
    {
     "name": "stdout",
     "output_type": "stream",
     "text": [
      "False\n",
      "6.0 ['2*3', '1*2']\n",
      "2.0 ['1*2']\n",
      "7.0 ['1+6.0']\n",
      "5.0 ['7.0-2.0']\n"
     ]
    },
    {
     "data": {
      "text/plain": [
       "'5'"
      ]
     },
     "execution_count": 39,
     "metadata": {},
     "output_type": "execute_result"
    }
   ],
   "source": [
    "def main_mult_div(s):\n",
    "    print(if_md_solved(s))\n",
    "    while if_md_solved(s) == False:\n",
    "        (ans, mult_div) = solve_md(s)\n",
    "        print(ans, mult_div)\n",
    "        s = s.replace(mult_div[0], ans, 1)\n",
    "    s = main_add_sub(s)\n",
    "    return str(int(float(s)))\n",
    "\n",
    "main_mult_div('1+2*3-1*2')"
   ]
  },
  {
   "cell_type": "code",
   "execution_count": null,
   "metadata": {},
   "outputs": [],
   "source": []
  },
  {
   "cell_type": "code",
   "execution_count": null,
   "metadata": {},
   "outputs": [],
   "source": []
  }
 ],
 "metadata": {
  "kernelspec": {
   "display_name": "Python 3",
   "language": "python",
   "name": "python3"
  },
  "language_info": {
   "codemirror_mode": {
    "name": "ipython",
    "version": 3
   },
   "file_extension": ".py",
   "mimetype": "text/x-python",
   "name": "python",
   "nbconvert_exporter": "python",
   "pygments_lexer": "ipython3",
   "version": "3.7.1"
  }
 },
 "nbformat": 4,
 "nbformat_minor": 2
}
