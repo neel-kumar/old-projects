{
 "cells": [
  {
   "cell_type": "code",
   "execution_count": 1,
   "metadata": {},
   "outputs": [],
   "source": [
    "inversions = 0"
   ]
  },
  {
   "cell_type": "code",
   "execution_count": 2,
   "metadata": {},
   "outputs": [],
   "source": [
    "def merge_sort(l, start, end):\n",
    "    #print(start, end)\n",
    "    # If list is empty or has one element, return\n",
    "    if len(l[start:end+1]) <= 1:\n",
    "        return\n",
    "    mid = start+(end-start)//2\n",
    "    merge_sort(l, start, mid)\n",
    "    merge_sort(l, mid+1, end)\n",
    "    merge(l, start, mid, end)"
   ]
  },
  {
   "cell_type": "code",
   "execution_count": 3,
   "metadata": {},
   "outputs": [],
   "source": [
    "def merge(l, start, mid, end):\n",
    "    global inversions\n",
    "    c = []\n",
    "    a = l[start:mid+1]\n",
    "    b = l[mid+1:end+1]\n",
    "    #print(a,b)\n",
    "    i = 0\n",
    "    j = 0\n",
    "    # print(start, end)\n",
    "    while i != len(a) and j != len(b):\n",
    "        #print(i,j)\n",
    "        if a[i] < b[j]:\n",
    "            c.append(a[i])\n",
    "            i = i+1\n",
    "        elif a[i] > b[j]:\n",
    "            inversions = inversions + len(a[i:])\n",
    "            c.append(b[j])\n",
    "            j = j+1\n",
    "        #print(c)\n",
    "        \n",
    "    if i == len(a):\n",
    "        while j != len(b):\n",
    "            c.append(b[j])\n",
    "            j = j+1\n",
    "            \n",
    "    if j == len(b):\n",
    "        while i != len(a):\n",
    "            c.append(a[i])\n",
    "            i = i+1\n",
    "            \n",
    "    l[start:end+1] = c"
   ]
  },
  {
   "cell_type": "code",
   "execution_count": 4,
   "metadata": {},
   "outputs": [],
   "source": [
    "#l = [1,3,2,4,7,5,6,8]\n",
    "#merge_sort(l,0,7)\n",
    "#l, inversions"
   ]
  },
  {
   "cell_type": "code",
   "execution_count": 5,
   "metadata": {},
   "outputs": [],
   "source": [
    "filename = \"/Users/soumitra/Desktop/IntegerArray.txt\"\n",
    "file = open(filename, 'r')\n",
    "l1 = file.readlines()\n",
    "l = []\n",
    "for i in l1:\n",
    "    l.append(int(i))"
   ]
  },
  {
   "cell_type": "code",
   "execution_count": 6,
   "metadata": {},
   "outputs": [
    {
     "data": {
      "text/plain": [
       "2407905288"
      ]
     },
     "execution_count": 6,
     "metadata": {},
     "output_type": "execute_result"
    }
   ],
   "source": [
    "inversions = 0\n",
    "merge_sort(l,0,100000-1)\n",
    "inversions"
   ]
  },
  {
   "cell_type": "code",
   "execution_count": null,
   "metadata": {},
   "outputs": [],
   "source": []
  }
 ],
 "metadata": {
  "kernelspec": {
   "display_name": "Python 3",
   "language": "python",
   "name": "python3"
  },
  "language_info": {
   "codemirror_mode": {
    "name": "ipython",
    "version": 3
   },
   "file_extension": ".py",
   "mimetype": "text/x-python",
   "name": "python",
   "nbconvert_exporter": "python",
   "pygments_lexer": "ipython3",
   "version": "3.7.1"
  }
 },
 "nbformat": 4,
 "nbformat_minor": 2
}
