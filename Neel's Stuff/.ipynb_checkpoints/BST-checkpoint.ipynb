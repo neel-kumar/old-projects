{
 "cells": [
  {
   "cell_type": "code",
   "execution_count": 7,
   "metadata": {},
   "outputs": [
    {
     "name": "stdout",
     "output_type": "stream",
     "text": [
      "True\n",
      "False\n"
     ]
    }
   ],
   "source": [
    "class Node(object):\n",
    "    def __init__(self, value):\n",
    "        self.value = value\n",
    "        self.left = None\n",
    "        self.right = None\n",
    "\n",
    "class BST(object):\n",
    "    def __init__(self, root):\n",
    "        self.root = Node(root)\n",
    "\n",
    "    def insert(self, new_val):\n",
    "        before = None\n",
    "        node = self.root\n",
    "        while True:\n",
    "            #print(node.value, node.right, node.left)\n",
    "            if node.value > new_val:\n",
    "                before = node\n",
    "                node = node.left\n",
    "            else:\n",
    "                before = node\n",
    "                node = node.right\n",
    "            if node == None:\n",
    "                break\n",
    "        if before.value > new_val:\n",
    "            before.left = Node(new_val)\n",
    "        else:\n",
    "            before.right = Node(new_val)\n",
    "\n",
    "    def search(self, find_val):\n",
    "        node = self.root\n",
    "        while True:\n",
    "            if node.value == find_val:\n",
    "                return True\n",
    "            if node.value > find_val:\n",
    "                before = node\n",
    "                node = node.left\n",
    "            else:\n",
    "                before = node\n",
    "                node = node.right\n",
    "            if node == None:\n",
    "                break\n",
    "        return False\n",
    "    \n",
    "# Set up tree\n",
    "tree = BST(4)\n",
    "\n",
    "# Insert elements\n",
    "tree.insert(2)\n",
    "tree.insert(1)\n",
    "tree.insert(3)\n",
    "tree.insert(5)\n",
    "\n",
    "# Check search\n",
    "# Should be True\n",
    "print(tree.search(4))\n",
    "# Should be False\n",
    "print(tree.search(6))"
   ]
  },
  {
   "cell_type": "code",
   "execution_count": null,
   "metadata": {},
   "outputs": [],
   "source": []
  }
 ],
 "metadata": {
  "kernelspec": {
   "display_name": "Python 3",
   "language": "python",
   "name": "python3"
  },
  "language_info": {
   "codemirror_mode": {
    "name": "ipython",
    "version": 3
   },
   "file_extension": ".py",
   "mimetype": "text/x-python",
   "name": "python",
   "nbconvert_exporter": "python",
   "pygments_lexer": "ipython3",
   "version": "3.7.1"
  }
 },
 "nbformat": 4,
 "nbformat_minor": 2
}
