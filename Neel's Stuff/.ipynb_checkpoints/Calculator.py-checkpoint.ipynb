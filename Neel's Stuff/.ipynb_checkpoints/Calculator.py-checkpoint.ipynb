{
 "cells": [
  {
   "cell_type": "code",
   "execution_count": 4,
   "metadata": {},
   "outputs": [],
   "source": [
    "import re"
   ]
  },
  {
   "cell_type": "code",
   "execution_count": 5,
   "metadata": {},
   "outputs": [],
   "source": [
    "def find_add(s):\n",
    "    add = re.findall(r'(\\d+\\s*\\+{1}\\s*\\d+)', s)\n",
    "    return add"
   ]
  },
  {
   "cell_type": "code",
   "execution_count": 6,
   "metadata": {},
   "outputs": [],
   "source": [
    "def find_sub(s):\n",
    "    sub = re.findall(r'(\\d+\\s*\\-{1}\\s*\\d+)', s)\n",
    "    return sub"
   ]
  },
  {
   "cell_type": "code",
   "execution_count": 7,
   "metadata": {},
   "outputs": [],
   "source": [
    "def do_add(s):\n",
    "    num = re.findall(r'(\\d+)', s)\n",
    "    a = int(num[0])\n",
    "    b = int(num[1])\n",
    "    return a + b"
   ]
  },
  {
   "cell_type": "code",
   "execution_count": 16,
   "metadata": {},
   "outputs": [],
   "source": [
    "def do_sub(s):\n",
    "    num = re.findall(r'(\\d+)', s)\n",
    "    a = int(num[0])\n",
    "    b = int(num[1])\n",
    "    return a - b"
   ]
  },
  {
   "cell_type": "code",
   "execution_count": 17,
   "metadata": {},
   "outputs": [
    {
     "data": {
      "text/plain": [
       "['1+1', '3-9']"
      ]
     },
     "execution_count": 17,
     "metadata": {},
     "output_type": "execute_result"
    }
   ],
   "source": [
    "def find_add_sub(s):\n",
    "    add_sub = re.findall(r'(\\d+\\s*[\\+|\\-]\\s*\\d+)', s)\n",
    "    return add_sub\n",
    "\n",
    "find_add_sub(\"1+1+3-9\")"
   ]
  },
  {
   "cell_type": "code",
   "execution_count": 18,
   "metadata": {},
   "outputs": [],
   "source": [
    "def if_solved(s):\n",
    "    if_s = re.findall(r'(\\d+)', s)\n",
    "    if len(if_s) == 1:\n",
    "        return True\n",
    "    else:\n",
    "        return False"
   ]
  },
  {
   "cell_type": "code",
   "execution_count": 19,
   "metadata": {},
   "outputs": [],
   "source": [
    "def solve(s):\n",
    "    add_sub = find_add_sub(s)\n",
    "    add = find_add(add_sub[0])\n",
    "    sub = find_sub(add_sub[0])\n",
    "    if len(add) != 0:\n",
    "        ans = do_add(add_sub[0])\n",
    "        return (str(ans), add_sub)\n",
    "    elif len(sub) != 0:\n",
    "        ans = do_sub(add_sub[0])\n",
    "        return (str(ans), add_sub)"
   ]
  },
  {
   "cell_type": "code",
   "execution_count": 24,
   "metadata": {},
   "outputs": [
    {
     "data": {
      "text/plain": [
       "'--4'"
      ]
     },
     "execution_count": 24,
     "metadata": {},
     "output_type": "execute_result"
    }
   ],
   "source": [
    "def main(s):\n",
    "    while if_solved(s) == False:\n",
    "        (ans, add_sub) = solve(s)\n",
    "        #print(ans, add_sub)\n",
    "        s = s.replace(add_sub[0], ans, 1)\n",
    "    return s\n",
    "\n",
    "print(main('1+2+1+4'))\n",
    "print(main('10'))\n",
    "print(main('10-1')"
   ]
  },
  {
   "cell_type": "code",
   "execution_count": null,
   "metadata": {},
   "outputs": [],
   "source": []
  },
  {
   "cell_type": "code",
   "execution_count": null,
   "metadata": {},
   "outputs": [],
   "source": []
  },
  {
   "cell_type": "code",
   "execution_count": null,
   "metadata": {},
   "outputs": [],
   "source": []
  }
 ],
 "metadata": {
  "kernelspec": {
   "display_name": "Python 3",
   "language": "python",
   "name": "python3"
  }
 },
 "nbformat": 4,
 "nbformat_minor": 2
}
