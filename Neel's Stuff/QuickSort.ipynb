{
 "cells": [
  {
   "cell_type": "code",
   "execution_count": 1,
   "metadata": {},
   "outputs": [],
   "source": [
    "def pivot_median(l, start, end):\n",
    "    # middle = (end-start)//2\n",
    "    middle = (((end-1)-start)//2)+start\n",
    "    #print(start, middle, end)\n",
    "    a = sorted([l[start], l[middle], l[end-1]])\n",
    "    if a[1] == l[start]:\n",
    "        return start\n",
    "    if a[1] == l[middle]:\n",
    "        return middle\n",
    "    else:\n",
    "        return end-1\n",
    "\n",
    "def pivot_first(l, start, end):\n",
    "    return start\n",
    "\n",
    "def pivot_last(l, start, end):\n",
    "    return end-1\n",
    "\n",
    "def swap(l, index1, index2):\n",
    "    x = l[index1]\n",
    "    l[index1] = l[index2]\n",
    "    l[index2] = x\n",
    "\n",
    "pivot_fn = pivot_median\n",
    "    \n",
    "def partition1(l, start, end):\n",
    "    global pivot_fn\n",
    "    #print(\"partition\")\n",
    "    #print(l[start:end])\n",
    "    pivot = pivot_fn(l, start, end)\n",
    "    swap(l, pivot, start)\n",
    "    pivot = start\n",
    "    #print(l[start:end], pivot)\n",
    "    i = start\n",
    "    j = start\n",
    "    for k in range(start+1, end):\n",
    "        #print(l[k], \"k\")\n",
    "        #print(l[start:end])\n",
    "        #print(\"if\", l[k], l[pivot])\n",
    "        if l[k] < l[pivot]:\n",
    "            swap(l, k, i+1)\n",
    "            i = i+1\n",
    "            #print(\"less\")\n",
    "        j = j+1\n",
    "    swap(l, pivot, i)\n",
    "    #print(l[start:end])\n",
    "    return i\n",
    "\n",
    "def partition(l, start, end):\n",
    "    global pivot_fn\n",
    "    pivot = pivot_fn(l, start, end)\n",
    "    swap(l, pivot, start)\n",
    "    pivot = start\n",
    "    i = start + 1\n",
    "    for j in range(start+1, end):\n",
    "        if l[j] < l[pivot]:\n",
    "            swap(l, i, j)\n",
    "            i = i+1\n",
    "    swap(l, pivot, i-1)\n",
    "    return i-1"
   ]
  },
  {
   "cell_type": "code",
   "execution_count": 2,
   "metadata": {},
   "outputs": [],
   "source": [
    "def quick_sort(l, start, end):\n",
    "    global m\n",
    "    if start >= end:\n",
    "        return\n",
    "    if end-start == 1:\n",
    "        return\n",
    "    #print(l[start:end])\n",
    "    pivot = partition(l, start, end)\n",
    "    mid1 = pivot\n",
    "    mid2 = pivot+1\n",
    "    #print(l[start:end], l[pivot])\n",
    "    #print(\"partition\")\n",
    "    m = m+((end-start)-1)\n",
    "    #print(m, start, end)\n",
    "    quick_sort(l, start, mid1)\n",
    "    quick_sort(l, mid2, end)"
   ]
  },
  {
   "cell_type": "code",
   "execution_count": 3,
   "metadata": {
    "scrolled": true
   },
   "outputs": [
    {
     "name": "stdout",
     "output_type": "stream",
     "text": [
      "16\n",
      "[1, 2, 3, 4, 5, 5.5, 6, 7, 8]\n"
     ]
    }
   ],
   "source": [
    "m = 0\n",
    "l = [2,3,6,4,8,1,5,7,5.5]\n",
    "quick_sort(l, 0, 9)\n",
    "print(m)\n",
    "print(l)"
   ]
  },
  {
   "cell_type": "code",
   "execution_count": 4,
   "metadata": {},
   "outputs": [],
   "source": [
    "def get_list():\n",
    "    filename = \"/Users/soumitra/Desktop/QuickSort.txt\"\n",
    "    file = open(filename, 'r')\n",
    "    l1 = file.readlines()\n",
    "    l = []\n",
    "    for i in l1:\n",
    "        l.append(int(i))\n",
    "    return l"
   ]
  },
  {
   "cell_type": "code",
   "execution_count": 5,
   "metadata": {},
   "outputs": [
    {
     "name": "stdout",
     "output_type": "stream",
     "text": [
      "10000\n",
      "10000\n",
      "138382\n"
     ]
    }
   ],
   "source": [
    "m = 0\n",
    "l = get_list()\n",
    "pivot_fn = pivot_median\n",
    "print(len(l))\n",
    "quick_sort(l, 0, 10000)\n",
    "print(len(l))\n",
    "print(m)"
   ]
  },
  {
   "cell_type": "code",
   "execution_count": 6,
   "metadata": {},
   "outputs": [
    {
     "name": "stdout",
     "output_type": "stream",
     "text": [
      "162085\n",
      "164123\n",
      "138382\n"
     ]
    }
   ],
   "source": [
    "m = 0; pivot_fn = pivot_first; quick_sort(get_list(), 0, 10000); print(m)\n",
    "m = 0; pivot_fn = pivot_last; quick_sort(get_list(), 0, 10000); print(m)\n",
    "m = 0; pivot_fn = pivot_median; quick_sort(get_list(), 0, 10000); print(m)"
   ]
  },
  {
   "cell_type": "code",
   "execution_count": 7,
   "metadata": {},
   "outputs": [
    {
     "name": "stdout",
     "output_type": "stream",
     "text": [
      "162085\n",
      "164123\n",
      "138382\n"
     ]
    }
   ],
   "source": [
    "m = 0; pivot_fn = pivot_first; quick_sort(get_list(), 0, 10000); print(m)\n",
    "m = 0; pivot_fn = pivot_last; quick_sort(get_list(), 0, 10000); print(m)\n",
    "m = 0; pivot_fn = pivot_median; quick_sort(get_list(), 0, 10000); print(m)\n",
    "# 162085 164123 159894"
   ]
  },
  {
   "cell_type": "code",
   "execution_count": 8,
   "metadata": {},
   "outputs": [
    {
     "name": "stdout",
     "output_type": "stream",
     "text": [
      "138382\n"
     ]
    }
   ],
   "source": [
    "l = get_list()\n",
    "m = 0; pivot_fn = pivot_median; quick_sort(l, 0, 10000); print(m)\n",
    "cmp = -1\n",
    "for i in l:\n",
    "    if i < cmp:\n",
    "        print(\"ERROR\", cmp, i)\n",
    "    cmp = i"
   ]
  },
  {
   "cell_type": "code",
   "execution_count": 9,
   "metadata": {},
   "outputs": [],
   "source": [
    "def mid(start, end):\n",
    "    # Implement\n",
    "    mid = (((end-1)-start)//2)+start\n",
    "    return mid"
   ]
  },
  {
   "cell_type": "code",
   "execution_count": 10,
   "metadata": {},
   "outputs": [
    {
     "name": "stdout",
     "output_type": "stream",
     "text": [
      "4\n",
      "5\n",
      "5\n"
     ]
    }
   ],
   "source": [
    "print(mid(0,10)) # expected output 4\n",
    "print(mid(1,10)) # expected output 5\n",
    "print(mid(2,9)) # expected output 5"
   ]
  },
  {
   "cell_type": "code",
   "execution_count": null,
   "metadata": {},
   "outputs": [],
   "source": []
  }
 ],
 "metadata": {
  "kernelspec": {
   "display_name": "Python 3",
   "language": "python",
   "name": "python3"
  },
  "language_info": {
   "codemirror_mode": {
    "name": "ipython",
    "version": 3
   },
   "file_extension": ".py",
   "mimetype": "text/x-python",
   "name": "python",
   "nbconvert_exporter": "python",
   "pygments_lexer": "ipython3",
   "version": "3.7.1"
  }
 },
 "nbformat": 4,
 "nbformat_minor": 2
}
